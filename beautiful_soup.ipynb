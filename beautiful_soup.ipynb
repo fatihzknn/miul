{
 "cells": [
  {
   "cell_type": "code",
   "execution_count": 2,
   "id": "04f585b2",
   "metadata": {},
   "outputs": [
    {
     "name": "stdout",
     "output_type": "stream",
     "text": [
      "Requirement already satisfied: requests in /Users/fatihozkan/anaconda3/lib/python3.11/site-packages (2.31.0)\r\n",
      "Requirement already satisfied: beautifulsoup4 in /Users/fatihozkan/anaconda3/lib/python3.11/site-packages (4.12.2)\r\n",
      "Requirement already satisfied: charset-normalizer<4,>=2 in /Users/fatihozkan/anaconda3/lib/python3.11/site-packages (from requests) (2.0.4)\r\n",
      "Requirement already satisfied: idna<4,>=2.5 in /Users/fatihozkan/anaconda3/lib/python3.11/site-packages (from requests) (3.4)\r\n",
      "Requirement already satisfied: urllib3<3,>=1.21.1 in /Users/fatihozkan/anaconda3/lib/python3.11/site-packages (from requests) (1.26.16)\r\n",
      "Requirement already satisfied: certifi>=2017.4.17 in /Users/fatihozkan/anaconda3/lib/python3.11/site-packages (from requests) (2024.2.2)\r\n",
      "Requirement already satisfied: soupsieve>1.2 in /Users/fatihozkan/anaconda3/lib/python3.11/site-packages (from beautifulsoup4) (2.4)\r\n"
     ]
    }
   ],
   "source": [
    "! pip install requests beautifulsoup4\n"
   ]
  },
  {
   "cell_type": "code",
   "execution_count": 3,
   "id": "ec03b8e6",
   "metadata": {},
   "outputs": [
    {
     "name": "stdout",
     "output_type": "stream",
     "text": [
      "Ürün: MODERN 15 - Fiyat: 13.799 TL\n",
      "Ürün: Excalibur - Fiyat: 20.999 TL\n",
      "Ürün: IdeaPad Slim3 - Fiyat: 15.999 TL\n",
      "Ürün: Zgx25 Ryzen 5 3600 - Fiyat: 16.599 TL\n",
      "Ürün: Excalibur - Fiyat: 32.499 TL\n",
      "Ürün: IdeaPad Slim 3 15IAH8 - Fiyat: 13.146 TL\n",
      "Ürün: K303 I7-860 16gb 256gb - Fiyat: 9.999 TL\n",
      "Ürün: Abra A5 V21.3 Intel - Fiyat: 22.799 TL\n",
      "Ürün: I5-3470 16gb Ram - Fiyat: 11.399 TL\n",
      "Ürün: Aspire3 Intel Core - Fiyat: 11.199 TL\n",
      "Ürün: Blade RTX14 Ryzen 5 - Fiyat: 19.499 TL\n",
      "Ürün: Aspire 5 Intel Core - Fiyat: 11.999 TL\n",
      "Ürün: Ma20 I5-650 Turbo - Fiyat: 5.799 TL\n",
      "Ürün: Damage X40 Ryzen 7 - Fiyat: 38.499 TL\n",
      "Ürün: LOQ Intel Core - Fiyat: 26.499 TL\n",
      "Ürün: Galaxy5 i5 10400F 16GB - Fiyat: 27.868 TL\n",
      "Ürün: Macbook Air M1 Çip 8gb - Fiyat: 25.899 TL\n",
      "Ürün: Abra A7 V15.2.2 Intel - Fiyat: 34.999 TL\n",
      "Ürün: CK57 RYZEN 5 5500 - Fiyat: 15.699 TL\n",
      "Ürün: Cyborg 15 A13ve-897xtr - Fiyat: 43.499 TL\n"
     ]
    }
   ],
   "source": [
    "import requests\n",
    "from bs4 import BeautifulSoup\n",
    "\n",
    "url = 'https://www.trendyol.com/sr?q=bilgisayar'\n",
    "headers = {\n",
    "    'User-Agent': 'Mozilla/5.0 (Windows NT 10.0; Win64; x64) AppleWebKit/537.36 (KHTML, like Gecko) Chrome/91.0.4472.124 Safari/537.36'\n",
    "}\n",
    "response = requests.get(url, headers=headers)\n",
    "\n",
    "if response.status_code == 200:\n",
    "    soup = BeautifulSoup(response.content, 'html.parser')\n",
    "    products = soup.find_all('div', class_='p-card-wrppr')\n",
    "\n",
    "    for product in products:\n",
    "        try:\n",
    "            title = product.find('span', class_='prdct-desc-cntnr-name hasRatings').text\n",
    "            price = product.find('div', class_='prc-box-dscntd').text\n",
    "            print(f'Ürün: {title} - Fiyat: {price}')\n",
    "        except AttributeError:\n",
    "            continue\n",
    "else:\n",
    "    print(f\"Hata: {response.status_code}\")"
   ]
  },
  {
   "cell_type": "code",
   "execution_count": null,
   "id": "0209b49c",
   "metadata": {},
   "outputs": [],
   "source": []
  }
 ],
 "metadata": {
  "kernelspec": {
   "display_name": "Python 3 (ipykernel)",
   "language": "python",
   "name": "python3"
  },
  "language_info": {
   "codemirror_mode": {
    "name": "ipython",
    "version": 3
   },
   "file_extension": ".py",
   "mimetype": "text/x-python",
   "name": "python",
   "nbconvert_exporter": "python",
   "pygments_lexer": "ipython3",
   "version": "3.11.3"
  }
 },
 "nbformat": 4,
 "nbformat_minor": 5
}
